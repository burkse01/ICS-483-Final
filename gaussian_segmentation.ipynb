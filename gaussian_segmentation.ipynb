{
 "cells": [
  {
   "cell_type": "code",
   "execution_count": null,
   "metadata": {},
   "outputs": [],
   "source": [
    "%cd /content\n",
    "!git clone --recursive https://github.com/camenduru/gaussian-splatting\n",
    "!pip install -q plyfile\n",
    "!pip install torch-points3d\n",
    "\n",
    "%cd /content/gaussian-splatting\n",
    "!pip install -q /content/gaussian-splatting/submodules/diff-gaussian-rasterization\n",
    "!pip install -q /content/gaussian-splatting/submodules/simple-knn\n",
    "\n",
    "!wget https://huggingface.co/camenduru/gaussian-splatting/resolve/main/tandt_db.zip\n",
    "!unzip tandt_db.zip\n",
    "\n",
    "!python train.py -s /content/gaussian-splatting/tandt/train"
   ]
  },
  {
   "cell_type": "code",
   "execution_count": null,
   "metadata": {},
   "outputs": [],
   "source": [
    "import numpy as np\n",
    "from utils.read_write_model import read_model, write_points3D_binary\n",
    "from torch_points3d.applications.pointnet2 import PointNet2\n",
    "import torch"
   ]
  },
  {
   "cell_type": "code",
   "execution_count": null,
   "metadata": {},
   "outputs": [],
   "source": [
    "#Load Trained Gaussian Model\n",
    "\n",
    "cam_intrinsics, images_metas, points3d = read_model()"
   ]
  },
  {
   "cell_type": "code",
   "execution_count": null,
   "metadata": {},
   "outputs": [],
   "source": [
    "#Load Pre-Trained PointNet2 \n",
    "\n",
    "pn_model = PointNet2(\n",
    "    \"segmentation\",\n",
    "    input_nc=3,  # Number of input features \n",
    "    num_classes=16,  # Number of segmentation classes \n",
    "    pretrained=True,\n",
    ")"
   ]
  },
  {
   "cell_type": "code",
   "execution_count": null,
   "metadata": {},
   "outputs": [],
   "source": [
    "points3d\n",
    "#pts_indices = np.array([points3d[key].id for key in points3d])\n",
    "#pts_xyzs = np.array([points3d[key].xyz for key in points3d])"
   ]
  },
  {
   "cell_type": "code",
   "execution_count": null,
   "metadata": {},
   "outputs": [],
   "source": [
    "with torch.no_grad():\n",
    "    outputs = pn_model(point_cloud)  # Shape: (batch_size, num_points, num_classes)\n",
    "#for classes in outputs[::3]:\n",
    "    #Save Individual Segments to be viewed\n",
    "    #highlight in original image\n",
    "\n",
    "write_points3D_binary(points3D, os.path.join(path, \"points3D\") + ext)\n",
    "predicted_labels = torch.argmax(outputs, dim=-1)  # Shape: (batch_size, num_points)"
   ]
  },
  {
   "cell_type": "code",
   "execution_count": null,
   "metadata": {},
   "outputs": [],
   "source": [
    "from scene.dataset_readers import storePly\n",
    "storePly(path, xyz, rgb)"
   ]
  }
 ],
 "metadata": {
  "language_info": {
   "name": "python"
  }
 },
 "nbformat": 4,
 "nbformat_minor": 2
}
